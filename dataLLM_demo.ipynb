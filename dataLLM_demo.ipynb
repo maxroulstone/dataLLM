{
 "cells": [
  {
   "cell_type": "markdown",
   "metadata": {},
   "source": [
    "### Initalise API"
   ]
  },
  {
   "cell_type": "code",
   "execution_count": 3,
   "metadata": {},
   "outputs": [],
   "source": [
    "from datallm import DataLLM\n",
    "import pandas as pd\n",
    "\n",
    "datallm = DataLLM(api_key='zpka_d1f3fc5c36024661a782c666d94c0b8b_2e8d250e', base_url='https://data.mostly.ai')\n"
   ]
  },
  {
   "cell_type": "markdown",
   "metadata": {},
   "source": [
    "### Enrich Data Set"
   ]
  },
  {
   "cell_type": "code",
   "execution_count": null,
   "metadata": {},
   "outputs": [],
   "source": [
    "df = pd.DataFrame({\n",
    "    \"age in years\": [5, 10, 13, 19, 30, 40, 50, 60, 70, 80],\n",
    "    \"gender\": [\"m\", \"f\", \"m\", \"f\", \"m\", \"f\", \"m\", \"f\", \"m\", \"f\"],\n",
    "    \"country code\": [\"AT\", \"DE\", \"FR\", \"IT\", \"ES\", \"PT\", \"GR\", \"UK\", \"SE\", \"FI\"],\n",
    "})\n",
    "\n",
    "# enrich the DataFrame with a new column containing the official country name\n",
    "df[\"country\"] = datallm.enrich(df, prompt=\"official name of the country\")\n",
    "\n",
    "# enrich the DataFrame with first name and last name\n",
    "df[\"first name\"] = datallm.enrich(df, prompt=\"the first name of that person\")\n",
    "df[\"last name\"] = datallm.enrich(df, prompt=\"the last name of that person\")\n",
    "\n",
    "# enrich the DataFrame with a categorical\n",
    "df[\"age group\"] = datallm.enrich(\n",
    "    df, prompt=\"age group\", categories=[\"kid\", \"teen\", \"adult\", \"elderly\"]\n",
    ")\n",
    "\n",
    "# enrich with a boolean value and a integer value\n",
    "df[\"speaks german\"] = datallm.enrich(df, prompt=\"speaks german?\", dtype=\"boolean\")\n",
    "df[\"body height\"] = datallm.enrich(df, prompt=\"the body height in cm\", dtype=\"integer\")\n",
    "print(df)"
   ]
  },
  {
   "cell_type": "markdown",
   "metadata": {},
   "source": [
    "### Generate Data Set from scratch"
   ]
  },
  {
   "cell_type": "code",
   "execution_count": 10,
   "metadata": {},
   "outputs": [
    {
     "data": {
      "application/vnd.jupyter.widget-view+json": {
       "model_id": "7497b34776dc412cbc1d2c27930dafa8",
       "version_major": 2,
       "version_minor": 0
      },
      "text/plain": [
       "Output()"
      ]
     },
     "metadata": {},
     "output_type": "display_data"
    },
    {
     "data": {
      "text/html": [
       "<pre style=\"white-space:pre;overflow-x:auto;line-height:normal;font-family:Menlo,'DejaVu Sans Mono',consolas,'Courier New',monospace\"></pre>\n"
      ],
      "text/plain": []
     },
     "metadata": {},
     "output_type": "display_data"
    },
    {
     "data": {
      "application/vnd.jupyter.widget-view+json": {
       "model_id": "2b5ce482b9f94d779e8394f7eaf37aa2",
       "version_major": 2,
       "version_minor": 0
      },
      "text/plain": [
       "Output()"
      ]
     },
     "metadata": {},
     "output_type": "display_data"
    },
    {
     "data": {
      "text/html": [
       "<pre style=\"white-space:pre;overflow-x:auto;line-height:normal;font-family:Menlo,'DejaVu Sans Mono',consolas,'Courier New',monospace\"></pre>\n"
      ],
      "text/plain": []
     },
     "metadata": {},
     "output_type": "display_data"
    },
    {
     "data": {
      "application/vnd.jupyter.widget-view+json": {
       "model_id": "34c35cfea2894b668a2e0c25f60c77ce",
       "version_major": 2,
       "version_minor": 0
      },
      "text/plain": [
       "Output()"
      ]
     },
     "metadata": {},
     "output_type": "display_data"
    },
    {
     "data": {
      "text/html": [
       "<pre style=\"white-space:pre;overflow-x:auto;line-height:normal;font-family:Menlo,'DejaVu Sans Mono',consolas,'Courier New',monospace\"></pre>\n"
      ],
      "text/plain": []
     },
     "metadata": {},
     "output_type": "display_data"
    },
    {
     "data": {
      "application/vnd.jupyter.widget-view+json": {
       "model_id": "42018e5ad82a4578aed062a72c853219",
       "version_major": 2,
       "version_minor": 0
      },
      "text/plain": [
       "Output()"
      ]
     },
     "metadata": {},
     "output_type": "display_data"
    },
    {
     "data": {
      "text/html": [
       "<pre style=\"white-space:pre;overflow-x:auto;line-height:normal;font-family:Menlo,'DejaVu Sans Mono',consolas,'Courier New',monospace\"></pre>\n"
      ],
      "text/plain": []
     },
     "metadata": {},
     "output_type": "display_data"
    },
    {
     "data": {
      "application/vnd.jupyter.widget-view+json": {
       "model_id": "4721ea3e17dd42638abc96c07cd72668",
       "version_major": 2,
       "version_minor": 0
      },
      "text/plain": [
       "Output()"
      ]
     },
     "metadata": {},
     "output_type": "display_data"
    },
    {
     "data": {
      "text/html": [
       "<pre style=\"white-space:pre;overflow-x:auto;line-height:normal;font-family:Menlo,'DejaVu Sans Mono',consolas,'Courier New',monospace\"></pre>\n"
      ],
      "text/plain": []
     },
     "metadata": {},
     "output_type": "display_data"
    },
    {
     "data": {
      "application/vnd.jupyter.widget-view+json": {
       "model_id": "6fe70261e847405e9339cd8444df0544",
       "version_major": 2,
       "version_minor": 0
      },
      "text/plain": [
       "Output()"
      ]
     },
     "metadata": {},
     "output_type": "display_data"
    },
    {
     "data": {
      "text/html": [
       "<pre style=\"white-space:pre;overflow-x:auto;line-height:normal;font-family:Menlo,'DejaVu Sans Mono',consolas,'Courier New',monospace\"></pre>\n"
      ],
      "text/plain": []
     },
     "metadata": {},
     "output_type": "display_data"
    },
    {
     "name": "stdout",
     "output_type": "stream",
     "text": [
      "traderId\n",
      "country\n",
      "date_of_transaction\n",
      "amount\n",
      "currency\n",
      "is_wash_trade\n"
     ]
    }
   ],
   "source": [
    "df = datallm.mock(\n",
    "    n=100,  # number of generated records \n",
    "    data_description=\"Generate a list of transactions including wash trades\",\n",
    "    columns={\n",
    "        \"traderId\": {\"prompt\": \"Id of person who made the trade\"},\n",
    "        \"country\": {\"prompt\": \"the 2-letter code the place in where the wash trade was made\"},\n",
    "        \"date_of_transaction\": {\"prompt\": \"the date of the transaction\", \"dtype\": \"date\"},\n",
    "        \"amount\": {\"prompt\": \"the amount of the transaction\", \"dtype\": \"float\"},\n",
    "        \"currency\": {\"prompt\": \"the currency of the transaction\"},\n",
    "        \"is_wash_trade\": {\"prompt\": \"is this a wash trade?\", \"dtype\": \"boolean\"}\n",
    "    },\n",
    "    temperature=0.7\n",
    ")\n",
    "#print(df[df['is_wash_trade'] == True])\n",
    "\n"
   ]
  }
 ],
 "metadata": {
  "kernelspec": {
   "display_name": ".venv",
   "language": "python",
   "name": "python3"
  },
  "language_info": {
   "codemirror_mode": {
    "name": "ipython",
    "version": 3
   },
   "file_extension": ".py",
   "mimetype": "text/x-python",
   "name": "python",
   "nbconvert_exporter": "python",
   "pygments_lexer": "ipython3",
   "version": "3.11.1"
  }
 },
 "nbformat": 4,
 "nbformat_minor": 2
}

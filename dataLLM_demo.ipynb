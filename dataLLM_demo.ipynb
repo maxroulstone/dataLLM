{
 "cells": [
  {
   "cell_type": "markdown",
   "metadata": {},
   "source": [
    "### Initalise API"
   ]
  },
  {
   "cell_type": "code",
   "execution_count": 1,
   "metadata": {},
   "outputs": [],
   "source": [
    "from datallm import DataLLM\n",
    "import pandas as pd\n",
    "import os\n",
    "\n",
    "datallm = DataLLM(api_key=os.getenv('API_KEY'), base_url='https://data.mostly.ai')\n"
   ]
  },
  {
   "cell_type": "markdown",
   "metadata": {},
   "source": [
    "### Enrich Data Set"
   ]
  },
  {
   "cell_type": "code",
   "execution_count": 2,
   "metadata": {},
   "outputs": [
    {
     "data": {
      "application/vnd.jupyter.widget-view+json": {
       "model_id": "e0979887dad24fc3894ba423d3f4741c",
       "version_major": 2,
       "version_minor": 0
      },
      "text/plain": [
       "Output()"
      ]
     },
     "metadata": {},
     "output_type": "display_data"
    },
    {
     "data": {
      "text/html": [
       "<pre style=\"white-space:pre;overflow-x:auto;line-height:normal;font-family:Menlo,'DejaVu Sans Mono',consolas,'Courier New',monospace\"></pre>\n"
      ],
      "text/plain": []
     },
     "metadata": {},
     "output_type": "display_data"
    },
    {
     "data": {
      "application/vnd.jupyter.widget-view+json": {
       "model_id": "8eb189c9d8634a759dfacc7d6892ed0b",
       "version_major": 2,
       "version_minor": 0
      },
      "text/plain": [
       "Output()"
      ]
     },
     "metadata": {},
     "output_type": "display_data"
    },
    {
     "data": {
      "text/html": [
       "<pre style=\"white-space:pre;overflow-x:auto;line-height:normal;font-family:Menlo,'DejaVu Sans Mono',consolas,'Courier New',monospace\"></pre>\n"
      ],
      "text/plain": []
     },
     "metadata": {},
     "output_type": "display_data"
    },
    {
     "data": {
      "application/vnd.jupyter.widget-view+json": {
       "model_id": "7a1b125500c447b3b1f1aa2b0a560f2f",
       "version_major": 2,
       "version_minor": 0
      },
      "text/plain": [
       "Output()"
      ]
     },
     "metadata": {},
     "output_type": "display_data"
    },
    {
     "data": {
      "text/html": [
       "<pre style=\"white-space:pre;overflow-x:auto;line-height:normal;font-family:Menlo,'DejaVu Sans Mono',consolas,'Courier New',monospace\"></pre>\n"
      ],
      "text/plain": []
     },
     "metadata": {},
     "output_type": "display_data"
    },
    {
     "data": {
      "application/vnd.jupyter.widget-view+json": {
       "model_id": "3100658521094d12bd2d9012ad63ec07",
       "version_major": 2,
       "version_minor": 0
      },
      "text/plain": [
       "Output()"
      ]
     },
     "metadata": {},
     "output_type": "display_data"
    },
    {
     "data": {
      "text/html": [
       "<pre style=\"white-space:pre;overflow-x:auto;line-height:normal;font-family:Menlo,'DejaVu Sans Mono',consolas,'Courier New',monospace\"></pre>\n"
      ],
      "text/plain": []
     },
     "metadata": {},
     "output_type": "display_data"
    },
    {
     "data": {
      "application/vnd.jupyter.widget-view+json": {
       "model_id": "b8bb92b2f845462ba1b3f618e636eac0",
       "version_major": 2,
       "version_minor": 0
      },
      "text/plain": [
       "Output()"
      ]
     },
     "metadata": {},
     "output_type": "display_data"
    },
    {
     "data": {
      "text/html": [
       "<pre style=\"white-space:pre;overflow-x:auto;line-height:normal;font-family:Menlo,'DejaVu Sans Mono',consolas,'Courier New',monospace\"></pre>\n"
      ],
      "text/plain": []
     },
     "metadata": {},
     "output_type": "display_data"
    },
    {
     "data": {
      "application/vnd.jupyter.widget-view+json": {
       "model_id": "1abbe1b5f3584288991f7f0e654a384a",
       "version_major": 2,
       "version_minor": 0
      },
      "text/plain": [
       "Output()"
      ]
     },
     "metadata": {},
     "output_type": "display_data"
    },
    {
     "data": {
      "text/html": [
       "<pre style=\"white-space:pre;overflow-x:auto;line-height:normal;font-family:Menlo,'DejaVu Sans Mono',consolas,'Courier New',monospace\"></pre>\n"
      ],
      "text/plain": []
     },
     "metadata": {},
     "output_type": "display_data"
    },
    {
     "name": "stdout",
     "output_type": "stream",
     "text": [
      "   age in years gender country code  \\\n",
      "0             5      m           AT   \n",
      "1            10      f           DE   \n",
      "2            13      m           FR   \n",
      "3            19      f           IT   \n",
      "4            30      m           ES   \n",
      "5            40      f           PT   \n",
      "6            50      m           GR   \n",
      "7            60      f           UK   \n",
      "8            70      m           SE   \n",
      "9            80      f           FI   \n",
      "\n",
      "                                             country    first name  last name  \\\n",
      "0                                            Austria         Marco    Schnell   \n",
      "1                                            Germany          Nina      Röhrs   \n",
      "2                                             France        Adrien   Lefebvre   \n",
      "3                                              Italy     Gabriella  Finocchio   \n",
      "4                                              Spain          Jose     Mendia   \n",
      "5                                           Portugal         Carla  Filgueira   \n",
      "6                                             Greece  Konstantinos  Μιχαλιδής   \n",
      "7  United Kingdom of Great Britain and Northern I...         Susan     Clarke   \n",
      "8                                             Sweden  Claes-Gunnar  Andersson   \n",
      "9                                            Finland        Kirsti      Niemi   \n",
      "\n",
      "  age group speaks german  body height  \n",
      "0       kid          True          168  \n",
      "1      teen          True          143  \n",
      "2      teen         False          163  \n",
      "3      teen         False          168  \n",
      "4     adult         False          169  \n",
      "5     adult          True          164  \n",
      "6     adult         False          178  \n",
      "7   elderly         False          165  \n",
      "8   elderly         False          172  \n",
      "9   elderly          True          153  \n"
     ]
    }
   ],
   "source": [
    "df = pd.DataFrame({\n",
    "    \"age in years\": [5, 10, 13, 19, 30, 40, 50, 60, 70, 80],\n",
    "    \"gender\": [\"m\", \"f\", \"m\", \"f\", \"m\", \"f\", \"m\", \"f\", \"m\", \"f\"],\n",
    "    \"country code\": [\"AT\", \"DE\", \"FR\", \"IT\", \"ES\", \"PT\", \"GR\", \"UK\", \"SE\", \"FI\"],\n",
    "})\n",
    "\n",
    "# enrich the DataFrame with a new column containing the official country name\n",
    "df[\"country\"] = datallm.enrich(df, prompt=\"official name of the country\")\n",
    "\n",
    "# enrich the DataFrame with first name and last name\n",
    "df[\"first name\"] = datallm.enrich(df, prompt=\"the first name of that person\")\n",
    "df[\"last name\"] = datallm.enrich(df, prompt=\"the last name of that person\")\n",
    "\n",
    "# enrich the DataFrame with a categorical\n",
    "df[\"age group\"] = datallm.enrich(\n",
    "    df, prompt=\"age group\", categories=[\"kid\", \"teen\", \"adult\", \"elderly\"]\n",
    ")\n",
    "\n",
    "# enrich with a boolean value and a integer value\n",
    "df[\"speaks german\"] = datallm.enrich(df, prompt=\"speaks german?\", dtype=\"boolean\")\n",
    "df[\"body height\"] = datallm.enrich(df, prompt=\"the body height in cm\", dtype=\"integer\")\n",
    "print(df)"
   ]
  },
  {
   "cell_type": "markdown",
   "metadata": {},
   "source": [
    "### Generate Data Set from scratch"
   ]
  },
  {
   "cell_type": "code",
   "execution_count": 3,
   "metadata": {},
   "outputs": [
    {
     "data": {
      "application/vnd.jupyter.widget-view+json": {
       "model_id": "6d5990d06f434433a1b9a0b62bfca75b",
       "version_major": 2,
       "version_minor": 0
      },
      "text/plain": [
       "Output()"
      ]
     },
     "metadata": {},
     "output_type": "display_data"
    },
    {
     "data": {
      "text/html": [
       "<pre style=\"white-space:pre;overflow-x:auto;line-height:normal;font-family:Menlo,'DejaVu Sans Mono',consolas,'Courier New',monospace\"></pre>\n"
      ],
      "text/plain": []
     },
     "metadata": {},
     "output_type": "display_data"
    },
    {
     "data": {
      "application/vnd.jupyter.widget-view+json": {
       "model_id": "26d39fec31e44f989e045bd541037cd7",
       "version_major": 2,
       "version_minor": 0
      },
      "text/plain": [
       "Output()"
      ]
     },
     "metadata": {},
     "output_type": "display_data"
    },
    {
     "data": {
      "text/html": [
       "<pre style=\"white-space:pre;overflow-x:auto;line-height:normal;font-family:Menlo,'DejaVu Sans Mono',consolas,'Courier New',monospace\"></pre>\n"
      ],
      "text/plain": []
     },
     "metadata": {},
     "output_type": "display_data"
    },
    {
     "data": {
      "application/vnd.jupyter.widget-view+json": {
       "model_id": "224c3f7fc42b468ba0430e16b3f7bbfb",
       "version_major": 2,
       "version_minor": 0
      },
      "text/plain": [
       "Output()"
      ]
     },
     "metadata": {},
     "output_type": "display_data"
    },
    {
     "data": {
      "text/html": [
       "<pre style=\"white-space:pre;overflow-x:auto;line-height:normal;font-family:Menlo,'DejaVu Sans Mono',consolas,'Courier New',monospace\"></pre>\n"
      ],
      "text/plain": []
     },
     "metadata": {},
     "output_type": "display_data"
    },
    {
     "data": {
      "application/vnd.jupyter.widget-view+json": {
       "model_id": "1cd9910f6d184ddf8eccb42f2317aaac",
       "version_major": 2,
       "version_minor": 0
      },
      "text/plain": [
       "Output()"
      ]
     },
     "metadata": {},
     "output_type": "display_data"
    },
    {
     "data": {
      "text/html": [
       "<pre style=\"white-space:pre;overflow-x:auto;line-height:normal;font-family:Menlo,'DejaVu Sans Mono',consolas,'Courier New',monospace\"></pre>\n"
      ],
      "text/plain": []
     },
     "metadata": {},
     "output_type": "display_data"
    },
    {
     "data": {
      "application/vnd.jupyter.widget-view+json": {
       "model_id": "2018a40fa58e48e7b9c1431d180869e1",
       "version_major": 2,
       "version_minor": 0
      },
      "text/plain": [
       "Output()"
      ]
     },
     "metadata": {},
     "output_type": "display_data"
    },
    {
     "data": {
      "text/html": [
       "<pre style=\"white-space:pre;overflow-x:auto;line-height:normal;font-family:Menlo,'DejaVu Sans Mono',consolas,'Courier New',monospace\"></pre>\n"
      ],
      "text/plain": []
     },
     "metadata": {},
     "output_type": "display_data"
    },
    {
     "data": {
      "application/vnd.jupyter.widget-view+json": {
       "model_id": "23a433dd62364afab3beb6f47f8fe954",
       "version_major": 2,
       "version_minor": 0
      },
      "text/plain": [
       "Output()"
      ]
     },
     "metadata": {},
     "output_type": "display_data"
    },
    {
     "data": {
      "text/html": [
       "<pre style=\"white-space:pre;overflow-x:auto;line-height:normal;font-family:Menlo,'DejaVu Sans Mono',consolas,'Courier New',monospace\"></pre>\n"
      ],
      "text/plain": []
     },
     "metadata": {},
     "output_type": "display_data"
    },
    {
     "name": "stdout",
     "output_type": "stream",
     "text": [
      "   traderId country date_of_transaction   amount currency is_wash_trade\n",
      "0       138      BZ          2016-07-14      0.0      USD          True\n",
      "1     T6430      JT          2021-01-18  1136.09      JPY         False\n",
      "2      6241      NA          2011-09-19     5.07      USD          True\n",
      "3    L04717      US          2022-12-19    247.0      USD         False\n",
      "4   1111744      HK          2016-12-28  34830.0      USD          True\n",
      "..      ...     ...                 ...      ...      ...           ...\n",
      "95      986      SK          2016-10-18   671.09      EUR         False\n",
      "96    64889      EC          2017-10-20     6.54      USD         False\n",
      "97    U1539      LA          1990-10-04     24.8      USD         False\n",
      "98  2112925      HK          2021-06-28     2.89      USD          True\n",
      "99        0      US          2016-07-04    10.41      USD          True\n",
      "\n",
      "[100 rows x 6 columns]\n"
     ]
    }
   ],
   "source": [
    "df = datallm.mock(\n",
    "    n=100,  # number of generated records \n",
    "    data_description=\"Generate a list of transactions including wash trades\",\n",
    "    columns={\n",
    "        \"traderId\": {\"prompt\": \"Id of person who made the trade\"},\n",
    "        \"country\": {\"prompt\": \"the 2-letter code the place in where the wash trade was made\"},\n",
    "        \"date_of_transaction\": {\"prompt\": \"the date of the transaction\", \"dtype\": \"date\"},\n",
    "        \"amount\": {\"prompt\": \"the amount of the transaction\", \"dtype\": \"float\"},\n",
    "        \"currency\": {\"prompt\": \"the currency of the transaction\"},\n",
    "        \"is_wash_trade\": {\"prompt\": \"is this a wash trade?\", \"dtype\": \"boolean\"}\n",
    "    },\n",
    "    temperature=0.7\n",
    ")\n",
    "print(df)\n",
    "\n"
   ]
  }
 ],
 "metadata": {
  "kernelspec": {
   "display_name": ".venv",
   "language": "python",
   "name": "python3"
  },
  "language_info": {
   "codemirror_mode": {
    "name": "ipython",
    "version": 3
   },
   "file_extension": ".py",
   "mimetype": "text/x-python",
   "name": "python",
   "nbconvert_exporter": "python",
   "pygments_lexer": "ipython3",
   "version": "3.11.11"
  }
 },
 "nbformat": 4,
 "nbformat_minor": 2
}

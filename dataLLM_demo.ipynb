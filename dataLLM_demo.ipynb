{
 "cells": [
  {
   "cell_type": "markdown",
   "metadata": {},
   "source": [
    "### Initalise API"
   ]
  },
  {
   "cell_type": "code",
   "execution_count": 6,
   "metadata": {},
   "outputs": [],
   "source": [
    "from datallm import DataLLM\n",
    "import pandas as pd\n",
    "import os\n",
    "\n",
    "datallm = DataLLM(api_key=os.getenv('API_KEY'), base_url='https://data.mostly.ai')\n"
   ]
  },
  {
   "cell_type": "markdown",
   "metadata": {},
   "source": [
    "### Enrich Data Set"
   ]
  },
  {
   "cell_type": "code",
   "execution_count": 7,
   "metadata": {},
   "outputs": [
    {
     "data": {
      "application/vnd.jupyter.widget-view+json": {
       "model_id": "693b6cb8c23c48a8bf15a223e4359cc4",
       "version_major": 2,
       "version_minor": 0
      },
      "text/plain": [
       "Output()"
      ]
     },
     "metadata": {},
     "output_type": "display_data"
    },
    {
     "data": {
      "text/html": [
       "<pre style=\"white-space:pre;overflow-x:auto;line-height:normal;font-family:Menlo,'DejaVu Sans Mono',consolas,'Courier New',monospace\"></pre>\n"
      ],
      "text/plain": []
     },
     "metadata": {},
     "output_type": "display_data"
    },
    {
     "data": {
      "application/vnd.jupyter.widget-view+json": {
       "model_id": "71125e95ff364aa7bb8c837e3eaf01f5",
       "version_major": 2,
       "version_minor": 0
      },
      "text/plain": [
       "Output()"
      ]
     },
     "metadata": {},
     "output_type": "display_data"
    },
    {
     "data": {
      "text/html": [
       "<pre style=\"white-space:pre;overflow-x:auto;line-height:normal;font-family:Menlo,'DejaVu Sans Mono',consolas,'Courier New',monospace\"></pre>\n"
      ],
      "text/plain": []
     },
     "metadata": {},
     "output_type": "display_data"
    },
    {
     "data": {
      "application/vnd.jupyter.widget-view+json": {
       "model_id": "dbe0e92f733443ab8eb4b29b37f0bc1d",
       "version_major": 2,
       "version_minor": 0
      },
      "text/plain": [
       "Output()"
      ]
     },
     "metadata": {},
     "output_type": "display_data"
    },
    {
     "data": {
      "text/html": [
       "<pre style=\"white-space:pre;overflow-x:auto;line-height:normal;font-family:Menlo,'DejaVu Sans Mono',consolas,'Courier New',monospace\"></pre>\n"
      ],
      "text/plain": []
     },
     "metadata": {},
     "output_type": "display_data"
    },
    {
     "data": {
      "application/vnd.jupyter.widget-view+json": {
       "model_id": "07d53c4a558548bbadcc131e9aa875e1",
       "version_major": 2,
       "version_minor": 0
      },
      "text/plain": [
       "Output()"
      ]
     },
     "metadata": {},
     "output_type": "display_data"
    },
    {
     "data": {
      "text/html": [
       "<pre style=\"white-space:pre;overflow-x:auto;line-height:normal;font-family:Menlo,'DejaVu Sans Mono',consolas,'Courier New',monospace\"></pre>\n"
      ],
      "text/plain": []
     },
     "metadata": {},
     "output_type": "display_data"
    },
    {
     "data": {
      "application/vnd.jupyter.widget-view+json": {
       "model_id": "01bd736afa454ce4b80df8baa4cf91b8",
       "version_major": 2,
       "version_minor": 0
      },
      "text/plain": [
       "Output()"
      ]
     },
     "metadata": {},
     "output_type": "display_data"
    },
    {
     "data": {
      "text/html": [
       "<pre style=\"white-space:pre;overflow-x:auto;line-height:normal;font-family:Menlo,'DejaVu Sans Mono',consolas,'Courier New',monospace\"></pre>\n"
      ],
      "text/plain": []
     },
     "metadata": {},
     "output_type": "display_data"
    },
    {
     "data": {
      "application/vnd.jupyter.widget-view+json": {
       "model_id": "d7728abc5a2f4a19b909954311a85e99",
       "version_major": 2,
       "version_minor": 0
      },
      "text/plain": [
       "Output()"
      ]
     },
     "metadata": {},
     "output_type": "display_data"
    },
    {
     "data": {
      "text/html": [
       "<pre style=\"white-space:pre;overflow-x:auto;line-height:normal;font-family:Menlo,'DejaVu Sans Mono',consolas,'Courier New',monospace\"></pre>\n"
      ],
      "text/plain": []
     },
     "metadata": {},
     "output_type": "display_data"
    },
    {
     "name": "stdout",
     "output_type": "stream",
     "text": [
      "   age in years gender country code  \\\n",
      "0             5      m           AT   \n",
      "1            10      f           DE   \n",
      "2            13      m           FR   \n",
      "3            19      f           IT   \n",
      "4            30      m           ES   \n",
      "5            40      f           PT   \n",
      "6            50      m           GR   \n",
      "7            60      f           UK   \n",
      "8            70      m           SE   \n",
      "9            80      f           FI   \n",
      "\n",
      "                                             country     first name  \\\n",
      "0                                            Austria         Moritz   \n",
      "1                                            Germany          Julia   \n",
      "2                                             France  JEAN-FRANCOIS   \n",
      "3                                              Italy          Maria   \n",
      "4                                              Spain           Juan   \n",
      "5                                           Portugal          Maria   \n",
      "6                                             Greece       Pantelis   \n",
      "7  United Kingdom of Great Britain and Northern I...          Susan   \n",
      "8                                             Sweden      Karl-Erik   \n",
      "9                                            Finland          Heidi   \n",
      "\n",
      "     last name age group speaks german  body height  \n",
      "0       Scharf       kid         False          144  \n",
      "1        Höfer      teen         False          145  \n",
      "2        ANDRE      teen          True          175  \n",
      "3    Del Ponte      teen         False          172  \n",
      "4        López     adult         False          178  \n",
      "5        Silva     adult         False          176  \n",
      "6  Karavasilis     adult         False          171  \n",
      "7       MARTIN   elderly         False          167  \n",
      "8     Lindberg   elderly         False          168  \n",
      "9         Salo   elderly         False          159  \n"
     ]
    }
   ],
   "source": [
    "df = pd.DataFrame({\n",
    "    \"age in years\": [5, 10, 13, 19, 30, 40, 50, 60, 70, 80],\n",
    "    \"gender\": [\"m\", \"f\", \"m\", \"f\", \"m\", \"f\", \"m\", \"f\", \"m\", \"f\"],\n",
    "    \"country code\": [\"AT\", \"DE\", \"FR\", \"IT\", \"ES\", \"PT\", \"GR\", \"UK\", \"SE\", \"FI\"],\n",
    "})\n",
    "\n",
    "# enrich the DataFrame with a new column containing the official country name\n",
    "df[\"country\"] = datallm.enrich(df, prompt=\"official name of the country\")\n",
    "\n",
    "# enrich the DataFrame with first name and last name\n",
    "df[\"first name\"] = datallm.enrich(df, prompt=\"the first name of that person\")\n",
    "df[\"last name\"] = datallm.enrich(df, prompt=\"the last name of that person\")\n",
    "\n",
    "# enrich the DataFrame with a categorical\n",
    "df[\"age group\"] = datallm.enrich(\n",
    "    df, prompt=\"age group\", categories=[\"kid\", \"teen\", \"adult\", \"elderly\"]\n",
    ")\n",
    "\n",
    "# enrich with a boolean value and a integer value\n",
    "df[\"speaks german\"] = datallm.enrich(df, prompt=\"speaks german?\", dtype=\"boolean\")\n",
    "df[\"body height\"] = datallm.enrich(df, prompt=\"the body height in cm\", dtype=\"integer\")\n",
    "print(df)"
   ]
  },
  {
   "cell_type": "markdown",
   "metadata": {},
   "source": [
    "### Generate Data Set from scratch"
   ]
  },
  {
   "cell_type": "code",
   "execution_count": 8,
   "metadata": {},
   "outputs": [
    {
     "data": {
      "application/vnd.jupyter.widget-view+json": {
       "model_id": "69c5a77573664dd9bdcc75c7ad589201",
       "version_major": 2,
       "version_minor": 0
      },
      "text/plain": [
       "Output()"
      ]
     },
     "metadata": {},
     "output_type": "display_data"
    },
    {
     "data": {
      "text/html": [
       "<pre style=\"white-space:pre;overflow-x:auto;line-height:normal;font-family:Menlo,'DejaVu Sans Mono',consolas,'Courier New',monospace\"></pre>\n"
      ],
      "text/plain": []
     },
     "metadata": {},
     "output_type": "display_data"
    },
    {
     "data": {
      "application/vnd.jupyter.widget-view+json": {
       "model_id": "80b0d6444ab04864a0a1662cab289ac4",
       "version_major": 2,
       "version_minor": 0
      },
      "text/plain": [
       "Output()"
      ]
     },
     "metadata": {},
     "output_type": "display_data"
    },
    {
     "data": {
      "text/html": [
       "<pre style=\"white-space:pre;overflow-x:auto;line-height:normal;font-family:Menlo,'DejaVu Sans Mono',consolas,'Courier New',monospace\"></pre>\n"
      ],
      "text/plain": []
     },
     "metadata": {},
     "output_type": "display_data"
    },
    {
     "data": {
      "application/vnd.jupyter.widget-view+json": {
       "model_id": "cc025ccdabd04649886ebaad3d0e46d4",
       "version_major": 2,
       "version_minor": 0
      },
      "text/plain": [
       "Output()"
      ]
     },
     "metadata": {},
     "output_type": "display_data"
    },
    {
     "data": {
      "text/html": [
       "<pre style=\"white-space:pre;overflow-x:auto;line-height:normal;font-family:Menlo,'DejaVu Sans Mono',consolas,'Courier New',monospace\"></pre>\n"
      ],
      "text/plain": []
     },
     "metadata": {},
     "output_type": "display_data"
    },
    {
     "data": {
      "application/vnd.jupyter.widget-view+json": {
       "model_id": "63ee3d424cbb41cd8d48afcff1863d0c",
       "version_major": 2,
       "version_minor": 0
      },
      "text/plain": [
       "Output()"
      ]
     },
     "metadata": {},
     "output_type": "display_data"
    },
    {
     "data": {
      "text/html": [
       "<pre style=\"white-space:pre;overflow-x:auto;line-height:normal;font-family:Menlo,'DejaVu Sans Mono',consolas,'Courier New',monospace\"></pre>\n"
      ],
      "text/plain": []
     },
     "metadata": {},
     "output_type": "display_data"
    },
    {
     "data": {
      "application/vnd.jupyter.widget-view+json": {
       "model_id": "49765050fb1942eb9da37750f65f7570",
       "version_major": 2,
       "version_minor": 0
      },
      "text/plain": [
       "Output()"
      ]
     },
     "metadata": {},
     "output_type": "display_data"
    },
    {
     "data": {
      "text/html": [
       "<pre style=\"white-space:pre;overflow-x:auto;line-height:normal;font-family:Menlo,'DejaVu Sans Mono',consolas,'Courier New',monospace\"></pre>\n"
      ],
      "text/plain": []
     },
     "metadata": {},
     "output_type": "display_data"
    },
    {
     "data": {
      "application/vnd.jupyter.widget-view+json": {
       "model_id": "75fd161502be495d963a812a2d22326a",
       "version_major": 2,
       "version_minor": 0
      },
      "text/plain": [
       "Output()"
      ]
     },
     "metadata": {},
     "output_type": "display_data"
    },
    {
     "data": {
      "text/html": [
       "<pre style=\"white-space:pre;overflow-x:auto;line-height:normal;font-family:Menlo,'DejaVu Sans Mono',consolas,'Courier New',monospace\"></pre>\n"
      ],
      "text/plain": []
     },
     "metadata": {},
     "output_type": "display_data"
    }
   ],
   "source": [
    "df = datallm.mock(\n",
    "    n=100,  # number of generated records \n",
    "    data_description=\"Generate a list of transactions including wash trades\",\n",
    "    columns={\n",
    "        \"traderId\": {\"prompt\": \"Id of person who made the trade\"},\n",
    "        \"country\": {\"prompt\": \"the 2-letter code the place in where the wash trade was made\"},\n",
    "        \"date_of_transaction\": {\"prompt\": \"the date of the transaction\", \"dtype\": \"date\"},\n",
    "        \"amount\": {\"prompt\": \"the amount of the transaction\", \"dtype\": \"float\"},\n",
    "        \"currency\": {\"prompt\": \"the currency of the transaction\"},\n",
    "        \"is_wash_trade\": {\"prompt\": \"is this a wash trade?\", \"dtype\": \"boolean\"}\n",
    "    },\n",
    "    temperature=0.7\n",
    ")\n",
    "print(df)\n",
    "\n"
   ]
  }
 ],
 "metadata": {
  "kernelspec": {
   "display_name": ".venv",
   "language": "python",
   "name": "python3"
  },
  "language_info": {
   "codemirror_mode": {
    "name": "ipython",
    "version": 3
   },
   "file_extension": ".py",
   "mimetype": "text/x-python",
   "name": "python",
   "nbconvert_exporter": "python",
   "pygments_lexer": "ipython3",
   "version": "3.11.1"
  }
 },
 "nbformat": 4,
 "nbformat_minor": 2
}
